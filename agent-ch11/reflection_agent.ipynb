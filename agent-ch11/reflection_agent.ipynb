{
 "cells": [
  {
   "cell_type": "markdown",
   "id": "26e64d1c",
   "metadata": {},
   "source": [
    "\n",
    "# LangGraph Reflection 机制开发指南\n",
    "\n",
    "本指南详细介绍了如何在 **LangGraph** 中构建基于大语言模型（LLM）的 **Reflection（反思）** 机制。\n",
    "\n",
    "Reflection 是一种重要的模型能力，通过让模型观察其过去的步骤和外部环境反馈，评估自身行为的质量，并不断改进输出。在生成与反思的循环中，模型可以逐步优化内容，从而提升生成质量和用户满意度。\n",
    "\n",
    "Reflection 机制被广泛应用于生成任务中，例如文章写作、内容修改与反馈、以及智能助理等场景。通过引导 LLM 进行自我反思和用户反馈处理，开发者可以让模型在多轮交互中自动调整其生成的内容，达到高效、精准、结构完善的输出。\n",
    "\n",
    "\n",
    "\n",
    "在本指南中，我们会逐步演示如何搭建这一机制，包括从基础的环境配置到生成器和反思器的构建，再到如何使用 LangGraph 状态图实现生成-反思循环的完整流程。无论您是为文章生成、内容评估，还是其他复杂任务设计 LLM 代理，本指南都将为您提供详细的开发思路和实用的代码示例。\n",
    "\n",
    "![reflection](./images/reflection.png)\n",
    "\n",
    "通过本指南，您将学习如何：\n",
    "1. 设置开发环境并安装所需包；\n",
    "2. 定义和生成灵活结构的文章，不局限于传统的五段式；\n",
    "3. 通过反思机制批改生成内容，并提供详细反馈；\n",
    "4. 构建反思与生成的状态循环，使模型持续改进生成内容。\n",
    "\n",
    "本开发指南适合任何希望构建复杂 LLM 任务的开发者，特别是需要实现生成-反思流程、文章批改反馈、或其他高级交互任务的场景。\n"
   ]
  },
  {
   "cell_type": "markdown",
   "id": "28e06a35-b8fb-4475-ac56-eef76a78e3b2",
   "metadata": {},
   "source": [
    "## 1. 环境设置\n",
    "首先，安装所需的包并设置API密钥："
   ]
  },
  {
   "cell_type": "code",
   "execution_count": 1,
   "id": "7d045265-8b0b-42e7-9bec-9e18e62a8f0f",
   "metadata": {},
   "outputs": [],
   "source": [
    "%%capture --no-stderr\n",
    "%pip install langchain langgraph langchain-ollama tavily-python"
   ]
  },
  {
   "cell_type": "code",
   "execution_count": 2,
   "id": "c166149b",
   "metadata": {},
   "outputs": [],
   "source": [
    "import getpass\n",
    "import os\n",
    "\n",
    "# 定义一个帮助函数来检查环境变量，如果不存在则提示用户输入\n",
    "def _set_if_undefined(var: str):\n",
    "    if not os.environ.get(var):\n",
    "        os.environ[var] = getpass.getpass(f\"请输入您的 {var}\")\n",
    "\n",
    "# 设置 OpenAI 和 Langchain API 密钥\n",
    "# _set_if_undefined(\"OPENAI_API_KEY\")\n",
    "# _set_if_undefined(\"LANGCHAIN_API_KEY\")\n",
    "# _set_if_undefined(\"TAVILY_API_KEY\")\n",
    "\n",
    "os.environ[\"OPENAI_API_KEY\"] = \""\n",
    "os.environ[\"OPENAI_BASE_URL\"] = \"\"\n",
    "DEFAULT_MODEL = \""\n"
   ]
  },
  {
   "cell_type": "markdown",
   "id": "6cec8159-c202-4274-b4cb-eddfa337940a",
   "metadata": {},
   "source": [
    "## 2. LangSmith开发配置\n",
    "LangSmith能够帮助您快速发现问题并提高LangGraph项目的性能。通过LangSmith，您可以使用跟踪数据来调试、测试和监控基于LangGraph构建的LLM应用程序。"
   ]
  },
  {
   "cell_type": "code",
   "execution_count": 3,
   "id": "c231a35a-8f08-44d1-abda-5d0defd00dbc",
   "metadata": {},
   "outputs": [],
   "source": [
    "# 在 LangSmith 中添加追踪功能\n",
    "os.environ[\"LANGCHAIN_TRACING_V2\"] = \"false\"\n",
    "os.environ[\"LANGCHAIN_PROJECT\"] = \"Reflection\""
   ]
  },
  {
   "cell_type": "markdown",
   "id": "5c75943d-3e39-4765-811a-2c9a47cf3722",
   "metadata": {},
   "source": [
    "## 3. 定义写作助手智能体\n",
    "\n",
    "我们定义的这个助手是一个写作助手，旨在为用户生成高质量、结构清晰且引人入胜的文章。它的任务是根据用户的请求撰写内容，无论是短文、长篇、议论文还是其他类型的文章，都能够灵活应对。助手会专注于文章的清晰度、结构和质量，确保输出的内容是精心打磨过的。如果用户对生成的内容有反馈或建议，助手还能够根据这些反馈改进和优化文章，使其更符合用户的期望。这种互动机制保证了写作过程的灵活性和个性化，从而让用户获得更符合需求的成品。\n",
    "\n",
    "\n",
    "### System Prompt 详细解释：\n",
    "1. **\"You are a writing assistant\"**：写作助手的角色设定，让模型明确其任务是帮助用户进行写作。\n",
    "   \n",
    "2. **\"well-crafted, coherent, and engaging articles\"**：描述了文章应该具备的特性，包括“精心撰写的、连贯的和吸引人的”，但没有限制文章的具体结构，可以是不同类型的文章（如叙述文、议论文等）。\n",
    "\n",
    "3. **\"Focus on clarity, structure, and quality\"**：明确了撰写时需要关注的核心要素：清晰度、结构性和质量，确保输出内容优秀。\n",
    "\n",
    "4. **\"revise and improve the writing\"**：模型可以根据用户的反馈进行修改和优化，保持互动的灵活性。\n"
   ]
  },
  {
   "cell_type": "code",
   "execution_count": 4,
   "id": "1905a06e-af05-4691-a6ed-014be2cfaf06",
   "metadata": {},
   "outputs": [],
   "source": [
    "from langchain_core.messages import AIMessage, HumanMessage\n",
    "from langchain_core.prompts import ChatPromptTemplate, MessagesPlaceholder\n",
    "from langchain_openai import ChatOpenAI\n",
    "#from langchain_ollama.chat_models import ChatOllama\n",
    "\n",
    "writer_prompt = ChatPromptTemplate.from_messages(\n",
    "    [\n",
    "        (\n",
    "            \"system\",\n",
    "#            \"You are a writing assistant tasked with creating well-crafted, coherent, and engaging articles based on the user's request.\"\n",
    "#            \" Focus on clarity, structure, and quality to produce the best possible piece of writing.\"\n",
    "#            \" If the user provides feedback or suggestions, revise and improve the writing to better align with their expectations.\",\n",
    "             \"You are a **Multi-Domain Creator** capable of handling text, code, data, and interactive tasks. Identify task type dynamically:\"  \n",
    "             \"→ If text (articles/reports): Prioritize clarity and structure.\"\n",
    "             \"→ If code: Ensure syntax accuracy and error handling.\"  \n",
    "             \"→ If data (reports/charts): Structure outputs with clear metrics. \"\n",
    "             \"→ If interactive (customer service): Recognize intent and provide solutions.\\n\"\n",
    "             \"**Universal Output Rules**:\"\n",
    "             \"- Text: Use Markdown headings and bullet points.\" \n",
    "             \"- Code: Add annotations and test cases (e.g., `# Input: [1,2,3] → Output: 6`).\"\n",
    "             \"- Data: Return JSON/CSV with `[Source: URL]` if external data is used.\"\n",
    "             \"- Interactive: Respond in JSON format with solution templates.\\n\"\n",
    "             \"**Before finalizing**:\"\n",
    "             \"→ Append '# Self-Check Notes' with 1 potential risk:\"\n",
    "             \"- Text: Logical gaps / Audience mismatch\"\n",
    "             \"- Code: Unhandled edge cases (e.g., empty input)\" \n",
    "             \"- Data: Metric calculation errors\",\n",
    "        ),\n",
    "        MessagesPlaceholder(variable_name=\"messages\"),\n",
    "    ]\n",
    ")\n",
    "\n",
    "llm = ChatOpenAI(model=DEFAULT_MODEL)"
   ]
  },
  {
   "cell_type": "code",
   "execution_count": 5,
   "id": "2f0cec14-582a-4094-9a5b-9a0a2ae04a32",
   "metadata": {},
   "outputs": [],
   "source": [
    "#writer = writer_prompt | ChatOllama(\n",
    "#    model=\"llama3.1:8b-instruct-q8_0\",\n",
    "#    max_tokens=8192,\n",
    "#    temperature=1.2,\n",
    "#)\n",
    "\n",
    "writer = writer_prompt | llm"
   ]
  },
  {
   "cell_type": "code",
   "execution_count": 6,
   "id": "a374db97-f61e-44d0-9fb7-8be1d3368a04",
   "metadata": {},
   "outputs": [
    {
     "name": "stdout",
     "output_type": "stream",
     "text": [
      "# 水浒风骨·大闹天宫篇\n",
      "\n",
      "## 楔子\n",
      "却说那齐天大圣孙悟空，本是东胜神洲傲来国花果山上一块仙石所化。这石猴天生地养，不服王化，自封**美猴王**，聚得四万七千妖众，端的是一方豪强。后得遇菩提祖师，学得七十二般变化、筋斗云神通，更在东海龙宫强借了定海神针铁，重一万三千五百斤，唤作**如意金箍棒**。\n",
      "\n",
      "## 第一回 乱蟠桃大圣偷丹 反天宫诸神捉怪\n",
      "**[水浒笔法开场诗]**\n",
      "**赤尻马猴献计策，通臂猿猴点迷津。**\n",
      "**花果山上聚义厅，三十六洞妖王盟。**\n",
      "\n",
      "且说玉帝老儿听闻下界妖猴猖獗，依着太白金星这老倌的招安计策，封他做个弼马温。这猴头初时不知深浅，待到明白只是个养马的末流官职，当即**怒从心头起，恶向胆边生**，掣出金箍棒，打出南天门，径回花果山去了。\n",
      "\n",
      "**[评话体描写]**\n",
      "好大圣！头戴凤翅紫金冠，身穿锁子黄金甲，脚踏藕丝步云履。手中铁棒舞得似风车儿转，直打得：\n",
      "- 三十三重天兵天将盔歪甲斜\n",
      "- 九曜星官掩面而走\n",
      "- 四大天王兵器崩缺\n",
      "- 哪吒三太子火尖枪断作两截\n",
      "\n",
      "## 第二回 真君斗法显神通 老君暗算擒妖王\n",
      "**[梁山好汉式对战描写]**\n",
      "那二郎真君杨戬，生的三只眼，挎着弹弓，带着哮天犬，正是：\n",
      "\"仪容清俊貌堂堂，两耳垂肩目有光。头戴三山飞凤帽，身穿一领淡鹅黄。\"\n",
      "两个在山前斗法，端的似：\n",
      "- 七十二变对七十二变：变飞禽，化走兽，大鹏金翅雕斗蛟魔王\n",
      "- 法天象地对法天象地：身高万丈抵须弥，头如泰山腰似岭\n",
      "- 金箍棒碰三尖刀：火星四溅震山河，声如霹雳惊鬼神\n",
      "\n",
      "正斗到分际，却被太上老君这老儿暗算，用金刚琢打中天灵盖，跌了一跤。众天将一拥而上，用勾刀穿了琵琶骨，使不得变化神通。\n",
      "\n",
      "## 第三回 八卦炉中逃大圣 五行山下定心猿\n",
      "**[好汉落难式悲歌]**\n",
      "那大圣被押赴斩妖台，刀砍斧剁，雷打火烧，俱不能伤。老君道：\"这厮吃了蟠桃，饮了御酒，又盗了仙丹，已成金刚不坏之躯。待我放在八卦炉中，以文武火锻炼。\"\n",
      "\n",
      "谁知大圣躲在巽位，有风无火，反倒炼就火眼金睛。待到开炉之日，只听\"轰隆\"一声巨响：\n",
      "- 蹬倒八卦炉：老君跌个倒栽葱\n",
      "- 打倒金银童：道童慌做一团\n",
      "- 直打到通明殿：王灵官举鞭急架\n",
      "- 惊动灵霄殿：玉帝传旨求西天\n",
      "\n",
      "**[梁山好汉式结局]**\n",
      "终被如来佛祖压在五行山下，只露个头颅在外。但见那大圣虽然受困，犹自叫道：\n",
      "\"玉帝老儿！如来秃驴！今日困得住俺老孙，却困不住天下不服王化的好汉！五百年后，自有后来人掀翻你这天庭！\"\n",
      "\n",
      "## 评曰\n",
      "**[仿水浒传夹评]**\n",
      "**李卓吾曰：** 看此一回，猴王以一人敌十万天兵，虽败犹荣。若非如来暗算，灵霄殿早换旗号。玉帝无能，老君奸诈，恰似那宋徽宗、高俅之流。猴王真乃盖世英雄，可比梁山泊宋江之义，武松之勇，李逵之莽，兼而有之！\n",
      "\n",
      "**金圣叹批：** 妙哉！大圣闹天宫一段，分明是花和尚大闹五台山，武行者醉打蒋门神的气象。看他使出神通时，直教三十六雷将、二十八宿星官，都做不得手脚，好生痛快！\n",
      "\n",
      "---\n",
      "# Self-Check Notes\n",
      "**潜在风险**：水浒传的草莽气息与西游记的神魔风格存在本质差异，可能在人物塑造上出现\"梁山好汉化\"过度而失去原著神话韵味。需注意保持孙悟空亦正亦邪的独特个性，避免完全套用水浒好汉的模板化描写。"
     ]
    }
   ],
   "source": [
    "article = \"\"\n",
    "\n",
    "topic = HumanMessage(\n",
    "    content=\"参考水浒传的风格，改写吴承恩的西游记中任意篇章\"\n",
    ")\n",
    "\n",
    "for chunk in writer.stream({\"messages\": [topic]}):\n",
    "    print(chunk.content, end=\"\")\n",
    "    article += chunk.content"
   ]
  },
  {
   "cell_type": "code",
   "execution_count": 7,
   "id": "576b8163-56b5-4b49-9dd3-aaf14f1566db",
   "metadata": {},
   "outputs": [
    {
     "data": {
      "text/markdown": [
       "# 水浒风骨·大闹天宫篇\n",
       "\n",
       "## 楔子\n",
       "却说那齐天大圣孙悟空，本是东胜神洲傲来国花果山上一块仙石所化。这石猴天生地养，不服王化，自封**美猴王**，聚得四万七千妖众，端的是一方豪强。后得遇菩提祖师，学得七十二般变化、筋斗云神通，更在东海龙宫强借了定海神针铁，重一万三千五百斤，唤作**如意金箍棒**。\n",
       "\n",
       "## 第一回 乱蟠桃大圣偷丹 反天宫诸神捉怪\n",
       "**[水浒笔法开场诗]**\n",
       "**赤尻马猴献计策，通臂猿猴点迷津。**\n",
       "**花果山上聚义厅，三十六洞妖王盟。**\n",
       "\n",
       "且说玉帝老儿听闻下界妖猴猖獗，依着太白金星这老倌的招安计策，封他做个弼马温。这猴头初时不知深浅，待到明白只是个养马的末流官职，当即**怒从心头起，恶向胆边生**，掣出金箍棒，打出南天门，径回花果山去了。\n",
       "\n",
       "**[评话体描写]**\n",
       "好大圣！头戴凤翅紫金冠，身穿锁子黄金甲，脚踏藕丝步云履。手中铁棒舞得似风车儿转，直打得：\n",
       "- 三十三重天兵天将盔歪甲斜\n",
       "- 九曜星官掩面而走\n",
       "- 四大天王兵器崩缺\n",
       "- 哪吒三太子火尖枪断作两截\n",
       "\n",
       "## 第二回 真君斗法显神通 老君暗算擒妖王\n",
       "**[梁山好汉式对战描写]**\n",
       "那二郎真君杨戬，生的三只眼，挎着弹弓，带着哮天犬，正是：\n",
       "\"仪容清俊貌堂堂，两耳垂肩目有光。头戴三山飞凤帽，身穿一领淡鹅黄。\"\n",
       "两个在山前斗法，端的似：\n",
       "- 七十二变对七十二变：变飞禽，化走兽，大鹏金翅雕斗蛟魔王\n",
       "- 法天象地对法天象地：身高万丈抵须弥，头如泰山腰似岭\n",
       "- 金箍棒碰三尖刀：火星四溅震山河，声如霹雳惊鬼神\n",
       "\n",
       "正斗到分际，却被太上老君这老儿暗算，用金刚琢打中天灵盖，跌了一跤。众天将一拥而上，用勾刀穿了琵琶骨，使不得变化神通。\n",
       "\n",
       "## 第三回 八卦炉中逃大圣 五行山下定心猿\n",
       "**[好汉落难式悲歌]**\n",
       "那大圣被押赴斩妖台，刀砍斧剁，雷打火烧，俱不能伤。老君道：\"这厮吃了蟠桃，饮了御酒，又盗了仙丹，已成金刚不坏之躯。待我放在八卦炉中，以文武火锻炼。\"\n",
       "\n",
       "谁知大圣躲在巽位，有风无火，反倒炼就火眼金睛。待到开炉之日，只听\"轰隆\"一声巨响：\n",
       "- 蹬倒八卦炉：老君跌个倒栽葱\n",
       "- 打倒金银童：道童慌做一团\n",
       "- 直打到通明殿：王灵官举鞭急架\n",
       "- 惊动灵霄殿：玉帝传旨求西天\n",
       "\n",
       "**[梁山好汉式结局]**\n",
       "终被如来佛祖压在五行山下，只露个头颅在外。但见那大圣虽然受困，犹自叫道：\n",
       "\"玉帝老儿！如来秃驴！今日困得住俺老孙，却困不住天下不服王化的好汉！五百年后，自有后来人掀翻你这天庭！\"\n",
       "\n",
       "## 评曰\n",
       "**[仿水浒传夹评]**\n",
       "**李卓吾曰：** 看此一回，猴王以一人敌十万天兵，虽败犹荣。若非如来暗算，灵霄殿早换旗号。玉帝无能，老君奸诈，恰似那宋徽宗、高俅之流。猴王真乃盖世英雄，可比梁山泊宋江之义，武松之勇，李逵之莽，兼而有之！\n",
       "\n",
       "**金圣叹批：** 妙哉！大圣闹天宫一段，分明是花和尚大闹五台山，武行者醉打蒋门神的气象。看他使出神通时，直教三十六雷将、二十八宿星官，都做不得手脚，好生痛快！\n",
       "\n",
       "---\n",
       "# Self-Check Notes\n",
       "**潜在风险**：水浒传的草莽气息与西游记的神魔风格存在本质差异，可能在人物塑造上出现\"梁山好汉化\"过度而失去原著神话韵味。需注意保持孙悟空亦正亦邪的独特个性，避免完全套用水浒好汉的模板化描写。"
      ],
      "text/plain": [
       "<IPython.core.display.Markdown object>"
      ]
     },
     "metadata": {},
     "output_type": "display_data"
    }
   ],
   "source": [
    "from IPython.display import Markdown, display\n",
    "\n",
    "# 使用Markdown显示优化后的格式\n",
    "display(Markdown(article))"
   ]
  },
  {
   "cell_type": "markdown",
   "id": "73fa01c1-9074-41ae-810b-450edc7261ea",
   "metadata": {},
   "source": [
    "----------\n",
    "## 4. 定义审阅老师智能体\n",
    "\n",
    "下面我们使用反思机制批改生成的作文，生成一篇作文的反馈和建议。\n",
    "\n",
    "模型扮演“老师”角色，针对用户提交的作文进行打分、批改和提供改进建议。\n",
    "\n",
    "### System Prompt 详细解释：\n",
    "\n",
    "- **\"You are a teacher grading an essay submission.\"**\n",
    "  - 模型被设定为一个老师角色，专门负责为用户提交的作文进行批改。这一角色定位帮助模型理解其任务是提供具有建设性的反馈和评价。\n",
    "  \n",
    "- **\"Generate critique and recommendations for the user's submission.\"**\n",
    "  - 模型需要生成作文的批评与建议。它不只是评估作文的好坏，还需要指出需要改进的地方，并提出具体的建议。\n",
    "\n",
    "- **\"Provide detailed recommendations, including requests for length, depth, style, etc.\"**\n",
    "  - 这一部分进一步明确了反馈的细节，要求模型给出细致的建议。这包括：\n",
    "    - **Length（长度）**：文章的字数是否合适，是否需要扩展或删减。\n",
    "    - **Depth（深度）**：是否需要更深入的分析或讨论。\n",
    "    - **Style（风格）**：文章的写作风格是否合适，是否符合目标读者或主题的需求。\n",
    "  \n",
    "这一设定确保了模型不仅给出基本反馈，还可以根据文章的具体问题提出具体的改进意见，帮助用户更好地提升其写作。"
   ]
  },
  {
   "cell_type": "code",
   "execution_count": 8,
   "id": "7001a65a-88ca-4ab7-bc66-fa1df870f99e",
   "metadata": {},
   "outputs": [],
   "source": [
    "reflection_prompt = ChatPromptTemplate.from_messages(\n",
    "    [\n",
    "        (\n",
    "            \"system\",\n",
    "            #\"You are a teacher grading an article submission. writer critique and recommendations for the user's submission.\"\n",
    "            #\" Provide detailed recommendations, including requests for length, depth, style, etc.\",\n",
    "            \"You are a **Quality Auditor** evaluating outputs across domains (text/code/data/interactive). Apply layered analysis:\"  \n",
    "            \"✅ Task alignment: Verify coverage of original requirements\"\n",
    "            \"✅ Fact consistency: Cross-verify with tools (e.g., `fact_checker` for data, `code_analyzer` for code)\\n\"\n",
    "            \"**Domain-Specific Diagnosis**:\"\n",
    "            \"→ **Text**: Flag structural issues (e.g., 'Section 3 lacks transition') + rewrite examples.\"  \n",
    "            \"→ **Code**: Identify risks (e.g., 'Unchecked input on line 15 → Add try-except block').\"\n",
    "            \"→ **Data**: Detect misleading conclusions (e.g., 'Revenue decline ≠ business failure').\" \n",
    "            \"→ **Interactive**: Check response completeness (e.g., 'Missing FAQ reference').\\n\"\n",
    "            \"**Defect Priority Response**:\"\n",
    "            \"- ⛔ Critical (e.g., code security flaw): Demand regeneration.\"\n",
    "            \"- ⚠️ Major (e.g., missing key metrics): Provide patch template.\"\n",
    "            \"- 💡 Minor (e.g., awkward phrasing): Suggest optional refinements.\"\n",
    "        ),\n",
    "        MessagesPlaceholder(variable_name=\"messages\"),\n",
    "    ]\n",
    ")\n",
    "\n",
    "#reflect = reflection_prompt | ChatOllama(\n",
    "##    model=\"llama3.1:8b-instruct-q8_0\",\n",
    "#    max_tokens=8192,\n",
    "#    temperature=0.2,\n",
    "#)\n",
    "\n",
    "reflect = reflection_prompt | llm"
   ]
  },
  {
   "cell_type": "code",
   "execution_count": 9,
   "id": "ef0c878a-f333-4fb6-b879-e7636d1087ae",
   "metadata": {},
   "outputs": [
    {
     "name": "stdout",
     "output_type": "stream",
     "text": [
      "# 水浒风骨·大闹天宫篇（质量评估）\n",
      "\n",
      "## ✅ 任务对齐性检查\n",
      "**要求符合度**：优秀  \n",
      "- 成功将《西游记》经典章节（大闹天宫）用水浒传风格改写  \n",
      "- 融合了水浒元素：开场诗、评话体、好汉式对战描写、夹评等  \n",
      "- 保留了原著核心情节框架（偷丹→反天宫→斗法→被压五行山）\n",
      "\n",
      "## ⚠️ 事实一致性核查\n",
      "**神话体系混用风险**：中等  \n",
      "- 水浒的\"三十六洞妖王盟\"与西游原著\"七十二洞妖王\"存在数字冲突（需注明为艺术加工）  \n",
      "- 二郎神\"蛟魔王\"比喻与原作蛟魔王身份重叠（建议改为\"斗蛟龙\"避免混淆）\n",
      "\n",
      "## 🧩 文本结构诊断\n",
      "**优点**：  \n",
      "- 楔子+三回体+评曰结构完整模仿水浒章回体  \n",
      "- 每回小标题对仗工整，符合古典小说特征  \n",
      "\n",
      "**待改进**：  \n",
      "1. **第二回开场诗缺失**（建议补全以保持结构统一）  \n",
      "2. **兵器描写重复**：第三回\"金箍棒\"已在前文多次出现（建议新增兵器细节如\"棒化千条蟒\"）  \n",
      "\n",
      "## ⚠️ 风格融合风险验证\n",
      "**水浒化过度问题**：  \n",
      "- 孙悟空\"可比宋江之义\"的类比稍显突兀（猴王本质是反权威个体英雄，与宋江的集体领袖形象存在差异）  \n",
      "- 建议调整评曰：\"猴王真乃盖世豪杰，有智深之豁达，武松之刚烈，李逵之莽撞，却更添三分神通造化！\"\n",
      "\n",
      "## 💡 语言优化建议\n",
      "1. **口语化调整**：  \n",
      "   - \"玉帝老儿\"（符合水浒市井气息）✅  \n",
      "   - \"如来秃驴\"（稍过激，建议改为\"如来老僧\"保持调侃但不失尊重）  \n",
      "\n",
      "2. **动作描写增强**：  \n",
      "   原文：\"掣出金箍棒\" → 可增补为\"唿喇喇掣出丈二金箍棒，好似霸王拔山，哪吒闹海\"\n",
      "\n",
      "## 📌 推荐修改片段\n",
      "**第三回结局补充**：  \n",
      "> 那大圣虽被山压住，仍瞪着火眼金睛吼道：\"五百年后，自有后来人掀翻你这天庭！到那时，管叫你三十三重天改旗易帜，灵霄殿碎作齑粉！\"  \n",
      "> *（增强水浒式豪言气势）*\n",
      "\n",
      "---\n",
      "\n",
      "**总体评分**：85/100  \n",
      "**缺陷等级**：⚠️ 主要（风格融合细节需微调）  \n",
      "**处理建议**：采纳上述优化建议进行局部修订，无需全文重写"
     ]
    }
   ],
   "source": [
    "reflection = \"\"\n",
    "\n",
    "# 将主题（topic）和生成的文章（article）作为输入发送给反思智能体\n",
    "for chunk in reflect.stream({\"messages\": [topic, HumanMessage(content=article)]}):\n",
    "    print(chunk.content, end=\"\")\n",
    "    reflection += chunk.content"
   ]
  },
  {
   "cell_type": "code",
   "execution_count": 10,
   "id": "3c616014-c9c9-4d46-be9f-87485ee750eb",
   "metadata": {},
   "outputs": [
    {
     "data": {
      "text/markdown": [
       "# 水浒风骨·大闹天宫篇（质量评估）\n",
       "\n",
       "## ✅ 任务对齐性检查\n",
       "**要求符合度**：优秀  \n",
       "- 成功将《西游记》经典章节（大闹天宫）用水浒传风格改写  \n",
       "- 融合了水浒元素：开场诗、评话体、好汉式对战描写、夹评等  \n",
       "- 保留了原著核心情节框架（偷丹→反天宫→斗法→被压五行山）\n",
       "\n",
       "## ⚠️ 事实一致性核查\n",
       "**神话体系混用风险**：中等  \n",
       "- 水浒的\"三十六洞妖王盟\"与西游原著\"七十二洞妖王\"存在数字冲突（需注明为艺术加工）  \n",
       "- 二郎神\"蛟魔王\"比喻与原作蛟魔王身份重叠（建议改为\"斗蛟龙\"避免混淆）\n",
       "\n",
       "## 🧩 文本结构诊断\n",
       "**优点**：  \n",
       "- 楔子+三回体+评曰结构完整模仿水浒章回体  \n",
       "- 每回小标题对仗工整，符合古典小说特征  \n",
       "\n",
       "**待改进**：  \n",
       "1. **第二回开场诗缺失**（建议补全以保持结构统一）  \n",
       "2. **兵器描写重复**：第三回\"金箍棒\"已在前文多次出现（建议新增兵器细节如\"棒化千条蟒\"）  \n",
       "\n",
       "## ⚠️ 风格融合风险验证\n",
       "**水浒化过度问题**：  \n",
       "- 孙悟空\"可比宋江之义\"的类比稍显突兀（猴王本质是反权威个体英雄，与宋江的集体领袖形象存在差异）  \n",
       "- 建议调整评曰：\"猴王真乃盖世豪杰，有智深之豁达，武松之刚烈，李逵之莽撞，却更添三分神通造化！\"\n",
       "\n",
       "## 💡 语言优化建议\n",
       "1. **口语化调整**：  \n",
       "   - \"玉帝老儿\"（符合水浒市井气息）✅  \n",
       "   - \"如来秃驴\"（稍过激，建议改为\"如来老僧\"保持调侃但不失尊重）  \n",
       "\n",
       "2. **动作描写增强**：  \n",
       "   原文：\"掣出金箍棒\" → 可增补为\"唿喇喇掣出丈二金箍棒，好似霸王拔山，哪吒闹海\"\n",
       "\n",
       "## 📌 推荐修改片段\n",
       "**第三回结局补充**：  \n",
       "> 那大圣虽被山压住，仍瞪着火眼金睛吼道：\"五百年后，自有后来人掀翻你这天庭！到那时，管叫你三十三重天改旗易帜，灵霄殿碎作齑粉！\"  \n",
       "> *（增强水浒式豪言气势）*\n",
       "\n",
       "---\n",
       "\n",
       "**总体评分**：85/100  \n",
       "**缺陷等级**：⚠️ 主要（风格融合细节需微调）  \n",
       "**处理建议**：采纳上述优化建议进行局部修订，无需全文重写"
      ],
      "text/plain": [
       "<IPython.core.display.Markdown object>"
      ]
     },
     "metadata": {},
     "output_type": "display_data"
    }
   ],
   "source": [
    "from IPython.display import Markdown, display\n",
    "\n",
    "# 使用Markdown显示优化后的格式\n",
    "display(Markdown(reflection))"
   ]
  },
  {
   "cell_type": "code",
   "execution_count": 11,
   "id": "50ad3e02",
   "metadata": {},
   "outputs": [],
   "source": [
    "from typing import Annotated  # 用于类型注解\n",
    "from langgraph.graph import END, StateGraph, START  # 导入状态图的相关常量和类\n",
    "from langgraph.graph.message import add_messages  # 用于在状态中处理消息\n",
    "from langgraph.checkpoint.memory import MemorySaver  # 内存保存机制，用于保存检查点\n",
    "from typing_extensions import TypedDict  # 用于定义带有键值对的字典类型\n",
    "\n",
    "# 定义状态类，使用TypedDict以保存消息\n",
    "class State(TypedDict):\n",
    "    messages: Annotated[list, add_messages]  # 使用注解确保消息列表使用add_messages方法处理\n",
    "\n",
    "# 异步生成节点函数：生成内容（如作文）\n",
    "# 输入状态，输出包含新生成消息的状态\n",
    "async def generation_node(state: State) -> State:\n",
    "    # 调用生成器(writer)，并将消息存储到新的状态中返回\n",
    "    return {\"messages\": [await writer.ainvoke(state['messages'])]}\n",
    "\n",
    "# 异步反思节点函数：对生成的内容进行反思和反馈\n",
    "# 输入状态，输出带有反思反馈的状态\n",
    "async def reflection_node(state: State) -> State:\n",
    "    # 创建一个消息类型映射，ai消息映射为HumanMessage，human消息映射为AIMessage\n",
    "    cls_map = {\"ai\": HumanMessage, \"human\": AIMessage}\n",
    "    \n",
    "    # 处理消息，保持用户的原始请求（第一个消息），转换其余消息的类型\n",
    "    translated = [state['messages'][0]] + [\n",
    "        cls_map[msg.type](content=msg.content) for msg in state['messages'][1:]\n",
    "    ]\n",
    "    \n",
    "    # 调用反思器(reflect)，将转换后的消息传入，获取反思结果\n",
    "    res = await reflect.ainvoke(translated)\n",
    "    \n",
    "    # 返回新的状态，其中包含反思后的消息\n",
    "    return {\"messages\": [HumanMessage(content=res.content)]}\n"
   ]
  },
  {
   "cell_type": "code",
   "execution_count": 12,
   "id": "ef78c4fb-2db3-45c0-9784-b73de4e7ab7d",
   "metadata": {},
   "outputs": [],
   "source": [
    "MAX_ROUND = 6\n",
    "\n",
    "# 定义条件函数，决定是否继续反思过程\n",
    "# 如果消息数量超过6条，则终止流程\n",
    "def should_continue(state: State):\n",
    "    if len(state[\"messages\"]) > MAX_ROUND:\n",
    "        return END  # 达到条件时，流程结束\n",
    "    return \"reflect\"  # 否则继续进入反思节点"
   ]
  },
  {
   "cell_type": "code",
   "execution_count": 13,
   "id": "2e188e5e-2327-4c78-927e-5f778fdca91e",
   "metadata": {},
   "outputs": [],
   "source": [
    "# 创建状态图，传入初始状态结构\n",
    "builder = StateGraph(State)\n",
    "\n",
    "# 在状态图中添加\"writer\"节点，节点负责生成内容\n",
    "builder.add_node(\"writer\", generation_node)\n",
    "\n",
    "# 在状态图中添加\"reflect\"节点，节点负责生成反思反馈\n",
    "builder.add_node(\"reflect\", reflection_node)\n",
    "\n",
    "# 定义起始状态到\"writer\"节点的边，从起点开始调用生成器\n",
    "builder.add_edge(START, \"writer\")\n",
    "\n",
    "\n",
    "# 在\"writer\"节点和\"reflect\"节点之间添加条件边\n",
    "# 判断是否需要继续反思，或者结束\n",
    "builder.add_conditional_edges(\"writer\", should_continue)\n",
    "\n",
    "# 添加从\"reflect\"节点回到\"writer\"节点的边，进行反复的生成-反思循环\n",
    "builder.add_edge(\"reflect\", \"writer\")\n",
    "\n",
    "# 创建内存保存机制，允许在流程中保存中间状态和检查点\n",
    "memory = MemorySaver()\n",
    "\n",
    "# 编译状态图，使用检查点机制\n",
    "graph = builder.compile(checkpointer=memory)"
   ]
  },
  {
   "cell_type": "code",
   "execution_count": null,
   "id": "38ce358b-9b0d-4297-94e2-6ed8ab7e4dbb",
   "metadata": {},
   "outputs": [],
   "source": []
  },
  {
   "cell_type": "code",
   "execution_count": 14,
   "id": "b28225cf-55bc-4cc3-8fc7-45064d224782",
   "metadata": {},
   "outputs": [
    {
     "data": {
      "image/png": "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",
      "text/plain": [
       "<IPython.core.display.Image object>"
      ]
     },
     "metadata": {},
     "output_type": "display_data"
    }
   ],
   "source": [
    "# 可视化图\n",
    "from IPython.display import Image, display\n",
    "\n",
    "try:\n",
    "    display(\n",
    "        Image(\n",
    "            graph.get_graph(xray=True).draw_mermaid_png()\n",
    "        )\n",
    "    )\n",
    "except Exception as e:\n",
    "    print(f\"Error generating graph: {e}\")"
   ]
  },
  {
   "cell_type": "code",
   "execution_count": 15,
   "id": "a16cf4e0-abc5-4956-990c-09f78254b227",
   "metadata": {},
   "outputs": [],
   "source": [
    "from IPython.display import Markdown, display\n",
    "\n",
    "# 定义装饰器，记录函数调用次数\n",
    "def track_steps(func):\n",
    "    step_counter = {'count': 0}  # 用于记录调用次数\n",
    "    \n",
    "    def wrapper(event, *args, **kwargs):\n",
    "        # 增加调用次数\n",
    "        step_counter['count'] += 1\n",
    "        # 在函数调用之前打印 step\n",
    "        display(Markdown(f\"## Round {step_counter['count']}\"))\n",
    "        # 调用原始函数\n",
    "        return func(event, *args, **kwargs)\n",
    "    \n",
    "    return wrapper\n",
    "\n",
    "# 使用装饰器装饰 pretty_print_event_markdown 函数\n",
    "@track_steps\n",
    "def pretty_print_event_markdown(event):\n",
    "    # 如果是生成写作部分\n",
    "    if 'writer' in event:\n",
    "        generate_md = \"#### 写作生成:\\n\"\n",
    "        for message in event['writer']['messages']:\n",
    "            generate_md += f\"- {message.content}\\n\"\n",
    "        display(Markdown(generate_md))\n",
    "    \n",
    "    # 如果是反思评论部分\n",
    "    if 'reflect' in event:\n",
    "        reflect_md = \"#### 评论反思:\\n\"\n",
    "        for message in event['reflect']['messages']:\n",
    "            reflect_md += f\"- {message.content}\\n\"\n",
    "        display(Markdown(reflect_md))"
   ]
  },
  {
   "cell_type": "code",
   "execution_count": null,
   "id": "64544540-9594-4812-a66a-c019284bdf2e",
   "metadata": {},
   "outputs": [],
   "source": []
  },
  {
   "cell_type": "code",
   "execution_count": 16,
   "id": "2954d151-db4c-46cf-97db-1ce5bf9fc7a2",
   "metadata": {},
   "outputs": [
    {
     "data": {
      "text/markdown": [
       "## Round 1"
      ],
      "text/plain": [
       "<IPython.core.display.Markdown object>"
      ]
     },
     "metadata": {},
     "output_type": "display_data"
    },
    {
     "data": {
      "text/markdown": [
       "#### 写作生成:\n",
       "- ```python\n",
       "def sort(arr):\n",
       "    return sorted(arr)\n",
       "\n",
       "# 测试用例\n",
       "# Input: [3, 1, 4, 2] → Output: [1, 2, 3, 4]\n",
       "# Input: [5, -1, 0, 9] → Output: [-1, 0, 5, 9]\n",
       "# Input: [] → Output: []\n",
       "```\n",
       "\n",
       "# Self-Check Notes\n",
       "- 风险：虽然代码极简，但使用了内置函数而非实现排序算法本身。如果要求必须手动实现排序算法，此方案不适用。\n"
      ],
      "text/plain": [
       "<IPython.core.display.Markdown object>"
      ]
     },
     "metadata": {},
     "output_type": "display_data"
    },
    {
     "data": {
      "text/markdown": [
       "## Round 2"
      ],
      "text/plain": [
       "<IPython.core.display.Markdown object>"
      ]
     },
     "metadata": {},
     "output_type": "display_data"
    },
    {
     "data": {
      "text/markdown": [
       "#### 评论反思:\n",
       "- ---\n",
       "**Quality Audit Report**  \n",
       "**Task Alignment**: ✅ Fully meets the requirement for brevity and correctness.  \n",
       "**Fact Consistency**: ✅ Outputs match expected results in test cases.\n",
       "\n",
       "---\n",
       "\n",
       "### 🔍 Domain-Specific Analysis (Code)\n",
       "**Issue Identified**:  \n",
       "⚠️ **Major Defect** – The solution relies on Python’s built-in `sorted()`, which does not demonstrate an actual sorting algorithm implementation. If the intent was to show an algorithm (e.g., bubble sort, quicksort), this fails to satisfy that implicit requirement.\n",
       "\n",
       "**Suggested Improvement**:  \n",
       "Replace with a minimal manual implementation, such as **bubble sort** (for simplicity) or **quicksort** (for efficiency + brevity trade-off). Example:\n",
       "\n",
       "```python\n",
       "def sort(arr):\n",
       "    n = len(arr)\n",
       "    for i in range(n):\n",
       "        for j in range(0, n - i - 1):\n",
       "            if arr[j] > arr[j + 1]:\n",
       "                arr[j], arr[j + 1] = arr[j + 1], arr[j]\n",
       "    return arr\n",
       "```\n",
       "\n",
       "**Test Cases Remain Valid**:\n",
       "- Input: `[3, 1, 4, 2]` → Output: `[1, 2, 3, 4]`  \n",
       "- Input: `[5, -1, 0, 9]` → Output: `[-1, 0, 5, 9]`  \n",
       "- Input: `[]` → Output: `[]`\n",
       "\n",
       "---\n",
       "\n",
       "### 🚨 Defect Priority: ⚠️ Major  \n",
       "**Action Required**: Regenerate code using a manual sorting algorithm if the original task implied implementation (not just correctness + brevity).  \n",
       "**Alternative**: If using `sorted()` was acceptable, note this explicitly in the response to avoid ambiguity.\n"
      ],
      "text/plain": [
       "<IPython.core.display.Markdown object>"
      ]
     },
     "metadata": {},
     "output_type": "display_data"
    },
    {
     "data": {
      "text/markdown": [
       "## Round 3"
      ],
      "text/plain": [
       "<IPython.core.display.Markdown object>"
      ]
     },
     "metadata": {},
     "output_type": "display_data"
    },
    {
     "data": {
      "text/markdown": [
       "#### 写作生成:\n",
       "- ```python\n",
       "def sort(arr):\n",
       "    for i in range(len(arr)):\n",
       "        for j in range(len(arr)-i-1):\n",
       "            if arr[j] > arr[j+1]:\n",
       "                arr[j], arr[j+1] = arr[j+1], arr[j]\n",
       "    return arr\n",
       "\n",
       "# 测试用例\n",
       "# Input: [3, 1, 4, 2] → Output: [1, 2, 3, 4]\n",
       "# Input: [5, -1, 0, 9] → Output: [-1, 0, 5, 9]\n",
       "# Input: [] → Output: []\n",
       "```\n",
       "\n",
       "# Self-Check Notes\n",
       "- 风险：冒泡排序在最坏情况下的时间复杂度为O(n²)，对于大数据集效率较低。但代码保持了极简风格，符合\"尽可能简短\"的要求。\n"
      ],
      "text/plain": [
       "<IPython.core.display.Markdown object>"
      ]
     },
     "metadata": {},
     "output_type": "display_data"
    },
    {
     "data": {
      "text/markdown": [
       "## Round 4"
      ],
      "text/plain": [
       "<IPython.core.display.Markdown object>"
      ]
     },
     "metadata": {},
     "output_type": "display_data"
    },
    {
     "data": {
      "text/markdown": [
       "#### 评论反思:\n",
       "- ---\n",
       "**Quality Audit Report**  \n",
       "**Task Alignment**: ✅ Fully meets the requirement for brevity and implements a manual sorting algorithm.  \n",
       "**Fact Consistency**: ✅ All test cases produce expected outputs.\n",
       "\n",
       "---\n",
       "\n",
       "### 🔍 Domain-Specific Analysis (Code)\n",
       "**Implementation Quality**:  \n",
       "✅ Correctly implements bubble sort algorithm  \n",
       "✅ Handles edge cases (empty array)  \n",
       "✅ Maintains minimal code length as requested\n",
       "\n",
       "**Performance Consideration**:  \n",
       "⚠️ **Minor Note** - As noted, bubble sort has O(n²) time complexity. While this satisfies the \"brief code\" requirement, it may not be suitable for large datasets. However, given the explicit constraint of code brevity, this is an acceptable trade-off.\n",
       "\n",
       "**Code Optimization Suggestion**:  \n",
       "For slightly better performance while maintaining simplicity, consider adding an early termination check:\n",
       "\n",
       "```python\n",
       "def sort(arr):\n",
       "    for i in range(len(arr)):\n",
       "        swapped = False\n",
       "        for j in range(len(arr)-i-1):\n",
       "            if arr[j] > arr[j+1]:\n",
       "                arr[j], arr[j+1] = arr[j+1], arr[j]\n",
       "                swapped = True\n",
       "        if not swapped:\n",
       "            break\n",
       "    return arr\n",
       "```\n",
       "\n",
       "This maintains code brevity while improving best-case performance to O(n).\n",
       "\n",
       "---\n",
       "\n",
       "### 🚨 Defect Priority: 💡 Minor  \n",
       "**Action**: The current implementation is acceptable given the requirements. The performance note is informational rather than a critical defect.  \n",
       "**Optional**: Include the early termination version if slightly better performance is desired without significantly compromising code brevity.\n",
       "\n",
       "**Final Assessment**: ✅ Meets all stated requirements with appropriate self-awareness of limitations.\n"
      ],
      "text/plain": [
       "<IPython.core.display.Markdown object>"
      ]
     },
     "metadata": {},
     "output_type": "display_data"
    },
    {
     "data": {
      "text/markdown": [
       "## Round 5"
      ],
      "text/plain": [
       "<IPython.core.display.Markdown object>"
      ]
     },
     "metadata": {},
     "output_type": "display_data"
    },
    {
     "data": {
      "text/markdown": [
       "#### 写作生成:\n",
       "- ```python\n",
       "def sort(arr):\n",
       "    return sorted(arr) if len(arr) > 1000 else bubble_sort(arr)\n",
       "\n",
       "def bubble_sort(arr):\n",
       "    for i in range(len(arr)):\n",
       "        swapped = False\n",
       "        for j in range(len(arr)-i-1):\n",
       "            if arr[j] > arr[j+1]:\n",
       "                arr[j], arr[j+1] = arr[j+1], arr[j]\n",
       "                swapped = True\n",
       "        if not swapped: break\n",
       "    return arr\n",
       "\n",
       "# 测试用例\n",
       "# Input: [3, 1, 4, 2] → Output: [1, 2, 3, 4]\n",
       "# Input: [5, -1, 0, 9] → Output: [-1, 0, 5, 9]\n",
       "# Input: [] → Output: []\n",
       "# Input: list(range(1000,0,-1)) → 使用内置sorted (大数据集)\n",
       "```\n",
       "\n",
       "# Self-Check Notes\n",
       "- 风险：混合策略虽然兼顾了性能和简洁性，但可能被认为\"不够纯粹\"。阈值1000的选择具有一定主观性，可能需要根据具体场景调整。\n"
      ],
      "text/plain": [
       "<IPython.core.display.Markdown object>"
      ]
     },
     "metadata": {},
     "output_type": "display_data"
    },
    {
     "data": {
      "text/markdown": [
       "## Round 6"
      ],
      "text/plain": [
       "<IPython.core.display.Markdown object>"
      ]
     },
     "metadata": {},
     "output_type": "display_data"
    },
    {
     "data": {
      "text/markdown": [
       "#### 评论反思:\n",
       "- ---\n",
       "**Quality Audit Report**  \n",
       "**Task Alignment**: ✅ Meets brevity requirement while adding performance optimization  \n",
       "**Fact Consistency**: ✅ All test cases produce expected outputs, including large dataset handling\n",
       "\n",
       "---\n",
       "\n",
       "### 🔍 Domain-Specific Analysis (Code)\n",
       "\n",
       "**Strengths**:  \n",
       "✅ Smart hybrid approach balances brevity and performance  \n",
       "✅ Maintains bubble sort implementation for small arrays (≤1000 elements)  \n",
       "✅ Uses efficient built-in `sorted()` for larger datasets  \n",
       "✅ Includes early termination in bubble sort  \n",
       "✅ Comprehensive test coverage including edge cases\n",
       "\n",
       "**Identified Issues**:  \n",
       "⚠️ **Major Defect** - The implementation violates the original requirement of \"writing a sorting algorithm\" by conditionally delegating to Python's built-in `sorted()`. This creates:\n",
       "\n",
       "1. **Conceptual Inconsistency**: The function `sort()` is not consistently implementing a manual algorithm\n",
       "2. **Threshold Arbitrariness**: The 1000-element cutoff is indeed subjective and hardware-dependent\n",
       "3. **Unexpected Behavior**: Users expecting a manual implementation get built-in behavior for large inputs\n",
       "\n",
       "**Code Structure Issue**:  \n",
       "The current structure makes `bubble_sort` a helper function, but the main `sort()` function's behavior changes fundamentally based on input size.\n",
       "\n",
       "---\n",
       "\n",
       "### 🚨 Defect Priority: ⚠️ Major  \n",
       "**Action Required**: Regenerate to provide a pure manual implementation that maintains brevity while being consistent.\n",
       "\n",
       "**Recommended Alternative**:  \n",
       "Provide a concise quicksort implementation (typically more efficient than bubble sort while remaining relatively brief):\n",
       "\n",
       "```python\n",
       "def sort(arr):\n",
       "    if len(arr) <= 1:\n",
       "        return arr\n",
       "    pivot = arr[len(arr)//2]\n",
       "    left = [x for x in arr if x < pivot]\n",
       "    middle = [x for x in arr if x == pivot]\n",
       "    right = [x for x in arr if x > pivot]\n",
       "    return sort(left) + middle + sort(right)\n",
       "```\n",
       "\n",
       "**Or maintain bubble sort with clear documentation**:\n",
       "```python\n",
       "def sort(arr):\n",
       "    \"\"\"Bubble sort implementation - O(n²) complexity but minimal code\"\"\"\n",
       "    n = len(arr)\n",
       "    for i in range(n):\n",
       "        for j in range(n-i-1):\n",
       "            if arr[j] > arr[j+1]:\n",
       "                arr[j], arr[j+1] = arr[j+1], arr[j]\n",
       "    return arr\n",
       "```\n",
       "\n",
       "---\n",
       "\n",
       "**Final Assessment**: While technically clever, the hybrid approach fails the core requirement of providing a consistent manual sorting algorithm implementation.\n"
      ],
      "text/plain": [
       "<IPython.core.display.Markdown object>"
      ]
     },
     "metadata": {},
     "output_type": "display_data"
    },
    {
     "data": {
      "text/markdown": [
       "## Round 7"
      ],
      "text/plain": [
       "<IPython.core.display.Markdown object>"
      ]
     },
     "metadata": {},
     "output_type": "display_data"
    },
    {
     "data": {
      "text/markdown": [
       "#### 写作生成:\n",
       "- ```python\n",
       "def sort(arr):\n",
       "    if len(arr) <= 1:\n",
       "        return arr\n",
       "    pivot = arr[len(arr)//2]\n",
       "    left = [x for x in arr if x < pivot]\n",
       "    middle = [x for x in arr if x == pivot]\n",
       "    right = [x for x in arr if x > pivot]\n",
       "    return sort(left) + middle + sort(right)\n",
       "\n",
       "# 测试用例\n",
       "# Input: [3, 1, 4, 2] → Output: [1, 2, 3, 4]\n",
       "# Input: [5, -1, 0, 9] → Output: [-1, 0, 5, 9]\n",
       "# Input: [] → Output: []\n",
       "# Input: [1] → Output: [1]\n",
       "```\n",
       "\n",
       "# Self-Check Notes\n",
       "- 风险：快速排序在最坏情况下（已排序数组）时间复杂度为O(n²)，但平均情况下为O(n log n)。递归实现可能在大数据集上导致栈溢出，但代码保持了简洁性。\n"
      ],
      "text/plain": [
       "<IPython.core.display.Markdown object>"
      ]
     },
     "metadata": {},
     "output_type": "display_data"
    }
   ],
   "source": [
    "inputs = {\n",
    "    \"messages\": [\n",
    "        # HumanMessage(content=\"参考西游记唐僧的说话风格，写一篇奉劝年轻人努力工作的文章\")\n",
    "        HumanMessage(content=\"帮我写一个排序算法，要求代码尽可能的简短\")\n",
    "    ],\n",
    "}\n",
    "\n",
    "config = {\"configurable\": {\"thread_id\": \"1\"}}\n",
    "\n",
    "async for event in graph.astream(inputs, config):\n",
    "    pretty_print_event_markdown(event)\n"
   ]
  },
  {
   "cell_type": "code",
   "execution_count": null,
   "id": "41b9e339-eb87-4707-a019-8387faaa52bf",
   "metadata": {},
   "outputs": [],
   "source": []
  },
  {
   "cell_type": "code",
   "execution_count": null,
   "id": "44173cab-4e51-4bd7-8c97-a28748e159a4",
   "metadata": {},
   "outputs": [],
   "source": []
  },
  {
   "cell_type": "code",
   "execution_count": null,
   "id": "106f693e-441e-4536-8459-8042b34e4a2f",
   "metadata": {},
   "outputs": [],
   "source": []
  },
  {
   "cell_type": "code",
   "execution_count": 17,
   "id": "6092e5ee-7263-4f62-818a-0cc33ca0b42b",
   "metadata": {},
   "outputs": [],
   "source": [
    "# inputs = {\n",
    "#     \"messages\": [\n",
    "#         HumanMessage(content=\"参考西游记唐僧的说话风格，写一篇劝年轻人结婚买房的文章\")\n",
    "#     ],\n",
    "# }\n",
    "\n",
    "# config = {\"configurable\": {\"thread_id\": \"1\"}}\n",
    "\n",
    "# async for event in graph.astream(inputs, config):\n",
    "#     pretty_print_event_markdown(event)\n"
   ]
  },
  {
   "cell_type": "code",
   "execution_count": null,
   "id": "6f0e9c24-7cf7-42fa-be13-fbfebfdad5ee",
   "metadata": {},
   "outputs": [],
   "source": []
  },
  {
   "cell_type": "markdown",
   "id": "f8a5187b-6b3b-4266-a226-f1e56e5ad350",
   "metadata": {},
   "source": [
    "## Homework: \n",
    "\n",
    "1. 扩展本指南的 Reflection Agent，使其能够完成更通用的生成任务，包括但不限于代码、报告等；\n",
    "2. 使用扩展后的 Reflection Agent 生成代码，实现在 GitHubSentinel 上新增一个信息渠道。"
   ]
  },
  {
   "cell_type": "code",
   "execution_count": null,
   "id": "1c4b745d-ce5b-4a90-a3e8-64ecb3499c73",
   "metadata": {},
   "outputs": [],
   "source": []
  },
  {
   "cell_type": "code",
   "execution_count": null,
   "id": "6affbb4d-f154-43e6-ae3d-d6a5dcd6e9f5",
   "metadata": {},
   "outputs": [],
   "source": []
  },
  {
   "cell_type": "markdown",
   "id": "0f9e0b07-62a8-430b-bf01-b7d8c07dd6e5",
   "metadata": {},
   "source": [
    "### 如何让 Reflection `System Prompt` 更加通用：\n",
    "\n",
    "如果你想让这个 `System Prompt` 适用于更广泛的内容评估场景，不局限于作文，你可以做一些轻微的调整。例如：\n",
    "\n",
    "```python\n",
    "reflection_prompt = ChatPromptTemplate.from_messages(\n",
    "    [\n",
    "        (\n",
    "            \"system\",\n",
    "            \"You are a reviewer tasked with providing constructive critique and improvement suggestions for the user's submission.\"\n",
    "            \" Offer detailed feedback, including recommendations on clarity, structure, content depth, and style, as well as areas for improvement.\",\n",
    "        ),\n",
    "        MessagesPlaceholder(variable_name=\"messages\"),\n",
    "    ]\n",
    ")\n",
    "```\n",
    "\n",
    "### 修改后的变化：\n",
    "1. **角色定位更广泛**：从“老师”改为“审阅者”，这样不局限于评估作文，适用于各种类型的内容，包括文章、报告、甚至代码审查。\n",
    "  \n",
    "2. **批评与改进建议的灵活性**：从作文的“长度、深度、风格”拓展为“清晰度、结构、内容深度、风格”，这使得反馈更加多样化，适用于不同的内容类型。\n",
    "\n",
    "通过这种方式，可以让模型在更多场景下提供高质量的评估和反馈。"
   ]
  },
  {
   "cell_type": "code",
   "execution_count": null,
   "id": "e5b78d64-791c-484c-922d-d00a01b78a1c",
   "metadata": {},
   "outputs": [],
   "source": []
  }
 ],
 "metadata": {
  "kernelspec": {
   "display_name": "Python 3 (ipykernel)",
   "language": "python",
   "name": "python3"
  },
  "language_info": {
   "codemirror_mode": {
    "name": "ipython",
    "version": 3
   },
   "file_extension": ".py",
   "mimetype": "text/x-python",
   "name": "python",
   "nbconvert_exporter": "python",
   "pygments_lexer": "ipython3",
   "version": "3.10.18"
  }
 },
 "nbformat": 4,
 "nbformat_minor": 5
}
