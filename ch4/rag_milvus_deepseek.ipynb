{
 "cells": [
  {
   "cell_type": "markdown",
   "id": "20549885",
   "metadata": {},
   "source": [
    "# 使用 Milvus 和 DeepSeek 构建 RAG\n",
    "\n",
    "DeepSeek 帮助开发者使用高性能语言模型构建和扩展 AI 应用。它提供高效的推理、灵活的 API 以及先进的专家混合 (MoE) 架构，用于强大的推理和检索任务。\n",
    "\n",
    "在本教程中，我们将展示如何使用 Milvus 和 DeepSeek 构建一个检索增强生成 (RAG) 管道。"
   ]
  },
  {
   "cell_type": "markdown",
   "id": "7394c701",
   "metadata": {},
   "source": [
    "## 准备工作"
   ]
  },
  {
   "cell_type": "markdown",
   "id": "89103a1e",
   "metadata": {},
   "source": [
    "### 依赖与环境"
   ]
  },
  {
   "cell_type": "code",
   "execution_count": 36,
   "id": "9c18d7b4",
   "metadata": {},
   "outputs": [
    {
     "name": "stderr",
     "output_type": "stream",
     "text": [
      "huggingface/tokenizers: The current process just got forked, after parallelism has already been used. Disabling parallelism to avoid deadlocks...\n",
      "To disable this warning, you can either:\n",
      "\t- Avoid using `tokenizers` before the fork if possible\n",
      "\t- Explicitly set the environment variable TOKENIZERS_PARALLELISM=(true | false)\n"
     ]
    },
    {
     "name": "stdout",
     "output_type": "stream",
     "text": [
      "Requirement already satisfied: pymilvus==2.5.10 in /Users/zhangtianqi/miniconda3/envs/deepseek/lib/python3.13/site-packages (from pymilvus[model]==2.5.10) (2.5.10)\n",
      "Requirement already satisfied: openai==1.82.0 in /Users/zhangtianqi/miniconda3/envs/deepseek/lib/python3.13/site-packages (1.82.0)\n",
      "Requirement already satisfied: requests==2.32.3 in /Users/zhangtianqi/miniconda3/envs/deepseek/lib/python3.13/site-packages (2.32.3)\n",
      "Requirement already satisfied: tqdm==4.67.1 in /Users/zhangtianqi/miniconda3/envs/deepseek/lib/python3.13/site-packages (4.67.1)\n",
      "Requirement already satisfied: torch==2.7.0 in /Users/zhangtianqi/miniconda3/envs/deepseek/lib/python3.13/site-packages (2.7.0)\n",
      "Requirement already satisfied: setuptools>69 in /Users/zhangtianqi/miniconda3/envs/deepseek/lib/python3.13/site-packages (from pymilvus==2.5.10->pymilvus[model]==2.5.10) (78.1.1)\n",
      "Requirement already satisfied: grpcio<=1.67.1,>=1.49.1 in /Users/zhangtianqi/miniconda3/envs/deepseek/lib/python3.13/site-packages (from pymilvus==2.5.10->pymilvus[model]==2.5.10) (1.67.1)\n",
      "Requirement already satisfied: protobuf>=3.20.0 in /Users/zhangtianqi/miniconda3/envs/deepseek/lib/python3.13/site-packages (from pymilvus==2.5.10->pymilvus[model]==2.5.10) (6.31.1)\n",
      "Requirement already satisfied: python-dotenv<2.0.0,>=1.0.1 in /Users/zhangtianqi/miniconda3/envs/deepseek/lib/python3.13/site-packages (from pymilvus==2.5.10->pymilvus[model]==2.5.10) (1.1.0)\n",
      "Requirement already satisfied: ujson>=2.0.0 in /Users/zhangtianqi/miniconda3/envs/deepseek/lib/python3.13/site-packages (from pymilvus==2.5.10->pymilvus[model]==2.5.10) (5.10.0)\n",
      "Requirement already satisfied: pandas>=1.2.4 in /Users/zhangtianqi/miniconda3/envs/deepseek/lib/python3.13/site-packages (from pymilvus==2.5.10->pymilvus[model]==2.5.10) (2.3.0)\n",
      "Requirement already satisfied: milvus-lite>=2.4.0 in /Users/zhangtianqi/miniconda3/envs/deepseek/lib/python3.13/site-packages (from pymilvus==2.5.10->pymilvus[model]==2.5.10) (2.4.12)\n",
      "Requirement already satisfied: anyio<5,>=3.5.0 in /Users/zhangtianqi/miniconda3/envs/deepseek/lib/python3.13/site-packages (from openai==1.82.0) (4.9.0)\n",
      "Requirement already satisfied: distro<2,>=1.7.0 in /Users/zhangtianqi/miniconda3/envs/deepseek/lib/python3.13/site-packages (from openai==1.82.0) (1.9.0)\n",
      "Requirement already satisfied: httpx<1,>=0.23.0 in /Users/zhangtianqi/miniconda3/envs/deepseek/lib/python3.13/site-packages (from openai==1.82.0) (0.28.1)\n",
      "Requirement already satisfied: jiter<1,>=0.4.0 in /Users/zhangtianqi/miniconda3/envs/deepseek/lib/python3.13/site-packages (from openai==1.82.0) (0.10.0)\n",
      "Requirement already satisfied: pydantic<3,>=1.9.0 in /Users/zhangtianqi/miniconda3/envs/deepseek/lib/python3.13/site-packages (from openai==1.82.0) (2.11.7)\n",
      "Requirement already satisfied: sniffio in /Users/zhangtianqi/miniconda3/envs/deepseek/lib/python3.13/site-packages (from openai==1.82.0) (1.3.1)\n",
      "Requirement already satisfied: typing-extensions<5,>=4.11 in /Users/zhangtianqi/miniconda3/envs/deepseek/lib/python3.13/site-packages (from openai==1.82.0) (4.14.0)\n",
      "Requirement already satisfied: charset-normalizer<4,>=2 in /Users/zhangtianqi/miniconda3/envs/deepseek/lib/python3.13/site-packages (from requests==2.32.3) (3.4.2)\n",
      "Requirement already satisfied: idna<4,>=2.5 in /Users/zhangtianqi/miniconda3/envs/deepseek/lib/python3.13/site-packages (from requests==2.32.3) (3.10)\n",
      "Requirement already satisfied: urllib3<3,>=1.21.1 in /Users/zhangtianqi/miniconda3/envs/deepseek/lib/python3.13/site-packages (from requests==2.32.3) (2.4.0)\n",
      "Requirement already satisfied: certifi>=2017.4.17 in /Users/zhangtianqi/miniconda3/envs/deepseek/lib/python3.13/site-packages (from requests==2.32.3) (2025.6.15)\n",
      "Requirement already satisfied: filelock in /Users/zhangtianqi/miniconda3/envs/deepseek/lib/python3.13/site-packages (from torch==2.7.0) (3.18.0)\n",
      "Requirement already satisfied: sympy>=1.13.3 in /Users/zhangtianqi/miniconda3/envs/deepseek/lib/python3.13/site-packages (from torch==2.7.0) (1.14.0)\n",
      "Requirement already satisfied: networkx in /Users/zhangtianqi/miniconda3/envs/deepseek/lib/python3.13/site-packages (from torch==2.7.0) (3.5)\n",
      "Requirement already satisfied: jinja2 in /Users/zhangtianqi/miniconda3/envs/deepseek/lib/python3.13/site-packages (from torch==2.7.0) (3.1.6)\n",
      "Requirement already satisfied: fsspec in /Users/zhangtianqi/miniconda3/envs/deepseek/lib/python3.13/site-packages (from torch==2.7.0) (2025.5.1)\n",
      "Requirement already satisfied: pymilvus.model>=0.3.0 in /Users/zhangtianqi/miniconda3/envs/deepseek/lib/python3.13/site-packages (from pymilvus[model]==2.5.10) (0.3.2)\n",
      "Requirement already satisfied: httpcore==1.* in /Users/zhangtianqi/miniconda3/envs/deepseek/lib/python3.13/site-packages (from httpx<1,>=0.23.0->openai==1.82.0) (1.0.9)\n",
      "Requirement already satisfied: h11>=0.16 in /Users/zhangtianqi/miniconda3/envs/deepseek/lib/python3.13/site-packages (from httpcore==1.*->httpx<1,>=0.23.0->openai==1.82.0) (0.16.0)\n",
      "Requirement already satisfied: annotated-types>=0.6.0 in /Users/zhangtianqi/miniconda3/envs/deepseek/lib/python3.13/site-packages (from pydantic<3,>=1.9.0->openai==1.82.0) (0.7.0)\n",
      "Requirement already satisfied: pydantic-core==2.33.2 in /Users/zhangtianqi/miniconda3/envs/deepseek/lib/python3.13/site-packages (from pydantic<3,>=1.9.0->openai==1.82.0) (2.33.2)\n",
      "Requirement already satisfied: typing-inspection>=0.4.0 in /Users/zhangtianqi/miniconda3/envs/deepseek/lib/python3.13/site-packages (from pydantic<3,>=1.9.0->openai==1.82.0) (0.4.1)\n",
      "Requirement already satisfied: numpy>=1.26.0 in /Users/zhangtianqi/miniconda3/envs/deepseek/lib/python3.13/site-packages (from pandas>=1.2.4->pymilvus==2.5.10->pymilvus[model]==2.5.10) (2.3.0)\n",
      "Requirement already satisfied: python-dateutil>=2.8.2 in /Users/zhangtianqi/miniconda3/envs/deepseek/lib/python3.13/site-packages (from pandas>=1.2.4->pymilvus==2.5.10->pymilvus[model]==2.5.10) (2.9.0.post0)\n",
      "Requirement already satisfied: pytz>=2020.1 in /Users/zhangtianqi/miniconda3/envs/deepseek/lib/python3.13/site-packages (from pandas>=1.2.4->pymilvus==2.5.10->pymilvus[model]==2.5.10) (2025.2)\n",
      "Requirement already satisfied: tzdata>=2022.7 in /Users/zhangtianqi/miniconda3/envs/deepseek/lib/python3.13/site-packages (from pandas>=1.2.4->pymilvus==2.5.10->pymilvus[model]==2.5.10) (2025.2)\n",
      "Requirement already satisfied: transformers>=4.36.0 in /Users/zhangtianqi/miniconda3/envs/deepseek/lib/python3.13/site-packages (from pymilvus.model>=0.3.0->pymilvus[model]==2.5.10) (4.52.4)\n",
      "Requirement already satisfied: onnxruntime in /Users/zhangtianqi/miniconda3/envs/deepseek/lib/python3.13/site-packages (from pymilvus.model>=0.3.0->pymilvus[model]==2.5.10) (1.22.0)\n",
      "Requirement already satisfied: scipy>=1.10.0 in /Users/zhangtianqi/miniconda3/envs/deepseek/lib/python3.13/site-packages (from pymilvus.model>=0.3.0->pymilvus[model]==2.5.10) (1.15.3)\n",
      "Requirement already satisfied: six>=1.5 in /Users/zhangtianqi/miniconda3/envs/deepseek/lib/python3.13/site-packages (from python-dateutil>=2.8.2->pandas>=1.2.4->pymilvus==2.5.10->pymilvus[model]==2.5.10) (1.17.0)\n",
      "Requirement already satisfied: mpmath<1.4,>=1.1.0 in /Users/zhangtianqi/miniconda3/envs/deepseek/lib/python3.13/site-packages (from sympy>=1.13.3->torch==2.7.0) (1.3.0)\n",
      "Requirement already satisfied: huggingface-hub<1.0,>=0.30.0 in /Users/zhangtianqi/miniconda3/envs/deepseek/lib/python3.13/site-packages (from transformers>=4.36.0->pymilvus.model>=0.3.0->pymilvus[model]==2.5.10) (0.33.0)\n",
      "Requirement already satisfied: packaging>=20.0 in /Users/zhangtianqi/miniconda3/envs/deepseek/lib/python3.13/site-packages (from transformers>=4.36.0->pymilvus.model>=0.3.0->pymilvus[model]==2.5.10) (25.0)\n",
      "Requirement already satisfied: pyyaml>=5.1 in /Users/zhangtianqi/miniconda3/envs/deepseek/lib/python3.13/site-packages (from transformers>=4.36.0->pymilvus.model>=0.3.0->pymilvus[model]==2.5.10) (6.0.2)\n",
      "Requirement already satisfied: regex!=2019.12.17 in /Users/zhangtianqi/miniconda3/envs/deepseek/lib/python3.13/site-packages (from transformers>=4.36.0->pymilvus.model>=0.3.0->pymilvus[model]==2.5.10) (2024.11.6)\n",
      "Requirement already satisfied: tokenizers<0.22,>=0.21 in /Users/zhangtianqi/miniconda3/envs/deepseek/lib/python3.13/site-packages (from transformers>=4.36.0->pymilvus.model>=0.3.0->pymilvus[model]==2.5.10) (0.21.1)\n",
      "Requirement already satisfied: safetensors>=0.4.3 in /Users/zhangtianqi/miniconda3/envs/deepseek/lib/python3.13/site-packages (from transformers>=4.36.0->pymilvus.model>=0.3.0->pymilvus[model]==2.5.10) (0.5.3)\n",
      "Requirement already satisfied: hf-xet<2.0.0,>=1.1.2 in /Users/zhangtianqi/miniconda3/envs/deepseek/lib/python3.13/site-packages (from huggingface-hub<1.0,>=0.30.0->transformers>=4.36.0->pymilvus.model>=0.3.0->pymilvus[model]==2.5.10) (1.1.4)\n",
      "Requirement already satisfied: MarkupSafe>=2.0 in /Users/zhangtianqi/miniconda3/envs/deepseek/lib/python3.13/site-packages (from jinja2->torch==2.7.0) (3.0.2)\n",
      "Requirement already satisfied: coloredlogs in /Users/zhangtianqi/miniconda3/envs/deepseek/lib/python3.13/site-packages (from onnxruntime->pymilvus.model>=0.3.0->pymilvus[model]==2.5.10) (15.0.1)\n",
      "Requirement already satisfied: flatbuffers in /Users/zhangtianqi/miniconda3/envs/deepseek/lib/python3.13/site-packages (from onnxruntime->pymilvus.model>=0.3.0->pymilvus[model]==2.5.10) (25.2.10)\n",
      "Requirement already satisfied: humanfriendly>=9.1 in /Users/zhangtianqi/miniconda3/envs/deepseek/lib/python3.13/site-packages (from coloredlogs->onnxruntime->pymilvus.model>=0.3.0->pymilvus[model]==2.5.10) (10.0)\n"
     ]
    }
   ],
   "source": [
    "!pip install \"pymilvus[model]==2.5.10\" openai==1.82.0 requests==2.32.3 tqdm==4.67.1 torch==2.7.0"
   ]
  },
  {
   "cell_type": "markdown",
   "id": "1b3c0999-d670-41a9-afbd-d8a020fe1631",
   "metadata": {},
   "source": [
    "---"
   ]
  },
  {
   "cell_type": "code",
   "execution_count": 37,
   "id": "375ad823",
   "metadata": {},
   "outputs": [],
   "source": [
    "import os\n",
    "\n",
    "# 从环境变量获取 DeepSeek API Key\n",
    "api_key = os.getenv(\"DEEPSEEK_API_KEY\")"
   ]
  },
  {
   "cell_type": "markdown",
   "id": "db44bb26",
   "metadata": {},
   "source": [
    "### 准备数据"
   ]
  },
  {
   "cell_type": "markdown",
   "id": "25f92a95",
   "metadata": {},
   "source": [
    "我们使用 Milvus 文档 2.4.x 中的 FAQ 页面作为我们 RAG 中的私有知识库，这是一个简单 RAG 管道的良好数据源。"
   ]
  },
  {
   "cell_type": "markdown",
   "id": "a1a8b9e2",
   "metadata": {},
   "source": [
    "下载 zip 文件并将文档解压到 `milvus_docs` 文件夹。\n",
    "\n",
    "**建议在命令行执行下面命令**"
   ]
  },
  {
   "cell_type": "code",
   "execution_count": 38,
   "id": "a81fa031",
   "metadata": {},
   "outputs": [],
   "source": [
    "#!wget https://github.com/milvus-io/milvus-docs/releases/download/v2.4.6-preview/milvus_docs_2.4.x_en.zip\n",
    "#!unzip -q milvus_docs_2.4.x_en.zip -d milvus_docs"
   ]
  },
  {
   "cell_type": "markdown",
   "id": "d1198466",
   "metadata": {},
   "source": [
    "我们从 `milvus_docs/en/faq` 文件夹加载所有 markdown 文件。对于每个文档，我们简单地使用 \"# \" 来分割文件中的内容，这样可以大致分离出 markdown 文件中每个主要部分的内容。"
   ]
  },
  {
   "cell_type": "code",
   "execution_count": 39,
   "id": "c9035a5f",
   "metadata": {},
   "outputs": [],
   "source": [
    "from glob import glob\n",
    "\n",
    "text_lines = []\n",
    "\n",
    "for file_path in glob(\"/Users/zhangtianqi/git_root/milvus/milvus_docs/en/faq/*.md\", recursive=True):\n",
    "    with open(file_path, \"r\") as file:\n",
    "        file_text = file.read()\n",
    "        \n",
    "\n",
    "    text_lines += file_text.split(\"# \")"
   ]
  },
  {
   "cell_type": "code",
   "execution_count": 40,
   "id": "01b73e74-ee7d-4daf-b7db-1c7a10bfc0bf",
   "metadata": {},
   "outputs": [
    {
     "data": {
      "text/plain": [
       "72"
      ]
     },
     "execution_count": 40,
     "metadata": {},
     "output_type": "execute_result"
    }
   ],
   "source": [
    "len(text_lines)"
   ]
  },
  {
   "cell_type": "markdown",
   "id": "4cc2a0b8",
   "metadata": {},
   "source": [
    "### 准备 LLM 和 Embedding 模型"
   ]
  },
  {
   "cell_type": "markdown",
   "id": "19eaff7a",
   "metadata": {},
   "source": [
    "DeepSeek 支持 OpenAI 风格的 API，您可以使用相同的 API 进行微小调整来调用 LLM。"
   ]
  },
  {
   "cell_type": "code",
   "execution_count": 41,
   "id": "b994eb47",
   "metadata": {},
   "outputs": [],
   "source": [
    "from openai import OpenAI\n",
    "\n",
    "deepseek_client = OpenAI(\n",
    "    api_key=api_key,\n",
    "    base_url=\"https://api.deepseek.com/v1\",  # DeepSeek API 的基地址\n",
    ")"
   ]
  },
  {
   "cell_type": "markdown",
   "id": "1cc5a5e2",
   "metadata": {},
   "source": [
    "定义一个 embedding 模型，使用 `milvus_model` 来生成文本嵌入。我们以 `DefaultEmbeddingFunction` 模型为例，这是一个预训练的轻量级嵌入模型。"
   ]
  },
  {
   "cell_type": "code",
   "execution_count": 42,
   "id": "3a94242a",
   "metadata": {},
   "outputs": [],
   "source": [
    "from pymilvus import model as milvus_model\n",
    "\n",
    "embedding_model = milvus_model.DefaultEmbeddingFunction()"
   ]
  },
  {
   "cell_type": "markdown",
   "id": "93fb1696",
   "metadata": {},
   "source": [
    "生成一个测试嵌入并打印其维度和前几个元素。"
   ]
  },
  {
   "cell_type": "code",
   "execution_count": 43,
   "id": "88a27567",
   "metadata": {},
   "outputs": [
    {
     "name": "stdout",
     "output_type": "stream",
     "text": [
      "768\n",
      "[-0.04836056  0.07163018 -0.01130064 -0.03789344 -0.03320646 -0.01318444\n",
      " -0.03041711 -0.02269505 -0.02317867 -0.00426023 -0.03546118  0.08240171\n",
      "  0.00960728 -0.09351629  0.01433032 -0.03563763 -0.02111162 -0.00714707\n",
      "  0.01316764  0.04865117]\n"
     ]
    }
   ],
   "source": [
    "test_embedding = embedding_model.encode_queries([\"This is a test\"])[0]\n",
    "embedding_dim = len(test_embedding)\n",
    "print(embedding_dim)\n",
    "print(test_embedding[:20])"
   ]
  },
  {
   "cell_type": "code",
   "execution_count": 44,
   "id": "f7683f3a-d9e4-4c8e-9a66-c341911bef6b",
   "metadata": {},
   "outputs": [
    {
     "name": "stdout",
     "output_type": "stream",
     "text": [
      "[-0.0275297   0.06088526  0.00388529 -0.00215193 -0.02774976 -0.01186187\n",
      " -0.04020914 -0.06023425 -0.03813157  0.01002724 -0.05802847  0.06410619\n",
      " -0.03280403 -0.05550344 -0.05593929 -0.01867559 -0.03538218  0.02740932\n",
      "  0.02673178  0.05488005]\n"
     ]
    }
   ],
   "source": [
    "test_embedding_0 = embedding_model.encode_queries([\"That is a test\"])[0]\n",
    "print(test_embedding_0[:20])"
   ]
  },
  {
   "cell_type": "markdown",
   "id": "5a778887",
   "metadata": {},
   "source": [
    "## 将数据加载到 Milvus"
   ]
  },
  {
   "cell_type": "markdown",
   "id": "02b23a24",
   "metadata": {},
   "source": [
    "### 创建 Collection"
   ]
  },
  {
   "cell_type": "code",
   "execution_count": 45,
   "id": "95e84b8c",
   "metadata": {},
   "outputs": [],
   "source": [
    "from pymilvus import MilvusClient\n",
    "\n",
    "milvus_client = MilvusClient(uri=\"./milvus_demo.db\")\n",
    "\n",
    "collection_name = \"my_rag_collection\""
   ]
  },
  {
   "cell_type": "markdown",
   "id": "68648561",
   "metadata": {},
   "source": [
    "关于 `MilvusClient` 的参数：\n",
    "\n",
    "*   将 `uri` 设置为本地文件，例如 `./milvus.db`，是最方便的方法，因为它会自动利用 Milvus Lite 将所有数据存储在此文件中。\n",
    "*   如果您有大规模数据，可以在 Docker 或 Kubernetes 上设置性能更高的 Milvus 服务器。在此设置中，请使用服务器 URI，例如 `http://localhost:19530`，作为您的 `uri`。\n",
    "*   如果您想使用 Zilliz Cloud（Milvus 的完全托管云服务），请调整 `uri` 和 `token`，它们对应 Zilliz Cloud 中的 Public Endpoint 和 Api key。"
   ]
  },
  {
   "cell_type": "markdown",
   "id": "5ce1bf3e",
   "metadata": {},
   "source": [
    "检查 collection 是否已存在，如果存在则删除它。"
   ]
  },
  {
   "cell_type": "code",
   "execution_count": 46,
   "id": "aee85c08",
   "metadata": {},
   "outputs": [],
   "source": [
    "if milvus_client.has_collection(collection_name):\n",
    "    milvus_client.drop_collection(collection_name)"
   ]
  },
  {
   "cell_type": "markdown",
   "id": "73eb379f",
   "metadata": {},
   "source": [
    "创建一个具有指定参数的新 collection。\n",
    "\n",
    "如果我们不指定任何字段信息，Milvus 将自动创建一个默认的 `id` 字段作为主键，以及一个 `vector` 字段来存储向量数据。一个保留的 JSON 字段用于存储非 schema 定义的字段及其值。\n",
    "\n",
    "`metric_type` (距离度量类型):\n",
    "     作用：定义如何计算向量之间的相似程度。\n",
    "     例如：`IP` (内积) - 值越大通常越相似；`L2` (欧氏距离) - 值越小越相似；`COSINE` (余弦相似度) - 通常转换为距离，值越小越相似。\n",
    "     选择依据：根据你的嵌入模型的特性和期望的相似性定义来选择。\n",
    "\n",
    " `consistency_level` (一致性级别):\n",
    "     作用：定义数据写入后，读取操作能多快看到这些新数据。\n",
    "     例如：\n",
    "         `Strong` (强一致性): 总是读到最新数据，可能稍慢。\n",
    "         `Bounded` (有界过期): 可能读到几秒内旧数据，性能较好 (默认)。\n",
    "         `Session` (会话一致性): 自己写入的自己能立刻读到。\n",
    "         `Eventually` (最终一致性): 最终会读到新数据，但没时间保证，性能最好。\n",
    "     选择依据：在数据实时性要求和系统性能之间做权衡。\n",
    "\n",
    "简单来说：\n",
    " `metric_type`：怎么算相似。\n",
    " `consistency_level`：新数据多久能被读到。"
   ]
  },
  {
   "cell_type": "code",
   "execution_count": 48,
   "id": "bd0b2df8",
   "metadata": {},
   "outputs": [],
   "source": [
    "milvus_client.create_collection(\n",
    "    collection_name=collection_name,\n",
    "    dimension=embedding_dim,\n",
    "    metric_type=\"IP\",  # 内积距离\n",
    "    consistency_level=\"Strong\",  # 支持的值为 (`\"Strong\"`, `\"Session\"`, `\"Bounded\"`, `\"Eventually\"`)。更多详情请参见 https://milvus.io/docs/consistency.md#Consistency-Level。\n",
    ")"
   ]
  },
  {
   "cell_type": "markdown",
   "id": "9c15bafb",
   "metadata": {},
   "source": [
    "### 插入数据"
   ]
  },
  {
   "cell_type": "markdown",
   "id": "171d3b35",
   "metadata": {},
   "source": [
    "遍历文本行，创建嵌入，然后将数据插入 Milvus。\n",
    "\n",
    "这里有一个新字段 `text`，它是在 collection schema 中未定义的字段。它将自动添加到保留的 JSON 动态字段中，该字段在高级别上可以被视为普通字段。"
   ]
  },
  {
   "cell_type": "code",
   "execution_count": 49,
   "id": "ad077094",
   "metadata": {},
   "outputs": [
    {
     "name": "stderr",
     "output_type": "stream",
     "text": [
      "Creating embeddings: 100%|██████████████████████████████████████████████████████████| 72/72 [00:00<00:00, 1411167.70it/s]\n"
     ]
    },
    {
     "data": {
      "text/plain": [
       "{'insert_count': 72, 'ids': [0, 1, 2, 3, 4, 5, 6, 7, 8, 9, 10, 11, 12, 13, 14, 15, 16, 17, 18, 19, 20, 21, 22, 23, 24, 25, 26, 27, 28, 29, 30, 31, 32, 33, 34, 35, 36, 37, 38, 39, 40, 41, 42, 43, 44, 45, 46, 47, 48, 49, 50, 51, 52, 53, 54, 55, 56, 57, 58, 59, 60, 61, 62, 63, 64, 65, 66, 67, 68, 69, 70, 71], 'cost': 0}"
      ]
     },
     "execution_count": 49,
     "metadata": {},
     "output_type": "execute_result"
    }
   ],
   "source": [
    "from tqdm import tqdm\n",
    "\n",
    "data = []\n",
    "\n",
    "doc_embeddings = embedding_model.encode_documents(text_lines)\n",
    "\n",
    "for i, line in enumerate(tqdm(text_lines, desc=\"Creating embeddings\")):\n",
    "    data.append({\"id\": i, \"vector\": doc_embeddings[i], \"text\": line})\n",
    "\n",
    "milvus_client.insert(collection_name=collection_name, data=data)"
   ]
  },
  {
   "cell_type": "markdown",
   "id": "bd971f6b",
   "metadata": {},
   "source": [
    "## 构建 RAG"
   ]
  },
  {
   "cell_type": "markdown",
   "id": "534dc076",
   "metadata": {},
   "source": [
    "### 检索查询数据"
   ]
  },
  {
   "cell_type": "markdown",
   "id": "5a6fd7e7",
   "metadata": {},
   "source": [
    "我们指定一个关于 Milvus 的常见问题。"
   ]
  },
  {
   "cell_type": "code",
   "execution_count": 62,
   "id": "6e2f5c6a",
   "metadata": {},
   "outputs": [],
   "source": [
    "question = \"What is the maximum amount of data that can be added per insert operation\""
   ]
  },
  {
   "cell_type": "markdown",
   "id": "52401a38",
   "metadata": {},
   "source": [
    "在 collection 中搜索该问题，并检索语义上最匹配的前3个结果。"
   ]
  },
  {
   "cell_type": "code",
   "execution_count": 63,
   "id": "0dd4cbac",
   "metadata": {},
   "outputs": [],
   "source": [
    "search_res = milvus_client.search(\n",
    "    collection_name=collection_name,\n",
    "    data=embedding_model.encode_queries(\n",
    "        [question]\n",
    "    ),  # 将问题转换为嵌入向量\n",
    "    limit=3,  # 返回前3个结果\n",
    "    search_params={\"metric_type\": \"IP\", \"params\": {}},  # 内积距离\n",
    "    output_fields=[\"text\"],  # 返回 text 字段\n",
    ")"
   ]
  },
  {
   "cell_type": "markdown",
   "id": "ffcce135",
   "metadata": {},
   "source": [
    "让我们看一下查询的搜索结果"
   ]
  },
  {
   "cell_type": "code",
   "execution_count": 64,
   "id": "6a7f6eb3",
   "metadata": {},
   "outputs": [
    {
     "name": "stdout",
     "output_type": "stream",
     "text": [
      "[\n",
      "    [\n",
      "        \"What is the maximum amount of data that can be added per insert operation?\\n\\nAn insert operation must not exceed 1,024 MB in size. This is a limit imposed by gRPC.\\n\\n###\",\n",
      "        0.7451789379119873\n",
      "    ],\n",
      "    [\n",
      "        \"What is the maximum dataset size Milvus can handle?\\n\\n  \\nTheoretically, the maximum dataset size Milvus can handle is determined by the hardware it is run on, specifically system memory and storage:\\n\\n- Milvus loads all specified collections and partitions into memory before running queries. Therefore, memory size determines the maximum amount of data Milvus can query.\\n- When new entities and and collection-related schema (currently only MinIO is supported for data persistence) are added to Milvus, system storage determines the maximum allowable size of inserted data.\\n\\n###\",\n",
      "        0.46861761808395386\n",
      "    ],\n",
      "    [\n",
      "        \"Can I create index for a segment before inserting data into it?\\n\\nYes, you can. But we recommend inserting data in batches, each of which should not exceed 256 MB, before indexing each segment.\\n\\n###\",\n",
      "        0.45498329401016235\n",
      "    ]\n",
      "]\n"
     ]
    }
   ],
   "source": [
    "import json\n",
    "\n",
    "retrieved_lines_with_distances = [\n",
    "    (res[\"entity\"][\"text\"], res[\"distance\"]) for res in search_res[0]\n",
    "]\n",
    "print(json.dumps(retrieved_lines_with_distances, indent=4))"
   ]
  },
  {
   "cell_type": "code",
   "execution_count": 65,
   "id": "81ccd4a7-290d-4756-8f0d-9d152375b65e",
   "metadata": {},
   "outputs": [
    {
     "data": {
      "text/plain": [
       "[{'id': 50, 'distance': 0.7451789379119873, 'entity': {'text': 'What is the maximum amount of data that can be added per insert operation?\\n\\nAn insert operation must not exceed 1,024 MB in size. This is a limit imposed by gRPC.\\n\\n###'}}, {'id': 43, 'distance': 0.46861761808395386, 'entity': {'text': 'What is the maximum dataset size Milvus can handle?\\n\\n  \\nTheoretically, the maximum dataset size Milvus can handle is determined by the hardware it is run on, specifically system memory and storage:\\n\\n- Milvus loads all specified collections and partitions into memory before running queries. Therefore, memory size determines the maximum amount of data Milvus can query.\\n- When new entities and and collection-related schema (currently only MinIO is supported for data persistence) are added to Milvus, system storage determines the maximum allowable size of inserted data.\\n\\n###'}}, {'id': 14, 'distance': 0.45498329401016235, 'entity': {'text': 'Can I create index for a segment before inserting data into it?\\n\\nYes, you can. But we recommend inserting data in batches, each of which should not exceed 256 MB, before indexing each segment.\\n\\n###'}}]"
      ]
     },
     "execution_count": 65,
     "metadata": {},
     "output_type": "execute_result"
    }
   ],
   "source": [
    "search_res[0]"
   ]
  },
  {
   "cell_type": "code",
   "execution_count": null,
   "id": "e947cf60-f7dd-4573-b1c2-120738cc3faf",
   "metadata": {},
   "outputs": [],
   "source": []
  },
  {
   "cell_type": "markdown",
   "id": "ccd4c186",
   "metadata": {},
   "source": [
    "### 使用 LLM 获取 RAG 响应"
   ]
  },
  {
   "cell_type": "markdown",
   "id": "4cd1ae3a",
   "metadata": {},
   "source": [
    "将检索到的文档转换为字符串格式。"
   ]
  },
  {
   "cell_type": "code",
   "execution_count": 66,
   "id": "0676448f",
   "metadata": {},
   "outputs": [],
   "source": [
    "context = \"\\n\".join(\n",
    "    [line_with_distance[0] for line_with_distance in retrieved_lines_with_distances]\n",
    ")"
   ]
  },
  {
   "cell_type": "code",
   "execution_count": 67,
   "id": "107df42a-b3f7-48a8-b66b-fc82fe3ec174",
   "metadata": {},
   "outputs": [
    {
     "data": {
      "text/plain": [
       "'What is the maximum amount of data that can be added per insert operation?\\n\\nAn insert operation must not exceed 1,024 MB in size. This is a limit imposed by gRPC.\\n\\n###\\nWhat is the maximum dataset size Milvus can handle?\\n\\n  \\nTheoretically, the maximum dataset size Milvus can handle is determined by the hardware it is run on, specifically system memory and storage:\\n\\n- Milvus loads all specified collections and partitions into memory before running queries. Therefore, memory size determines the maximum amount of data Milvus can query.\\n- When new entities and and collection-related schema (currently only MinIO is supported for data persistence) are added to Milvus, system storage determines the maximum allowable size of inserted data.\\n\\n###\\nCan I create index for a segment before inserting data into it?\\n\\nYes, you can. But we recommend inserting data in batches, each of which should not exceed 256 MB, before indexing each segment.\\n\\n###'"
      ]
     },
     "execution_count": 67,
     "metadata": {},
     "output_type": "execute_result"
    }
   ],
   "source": [
    "context"
   ]
  },
  {
   "cell_type": "code",
   "execution_count": 68,
   "id": "19998758-7f98-4cb8-8789-625fcfaad00e",
   "metadata": {},
   "outputs": [
    {
     "data": {
      "text/plain": [
       "'What is the maximum amount of data that can be added per insert operation'"
      ]
     },
     "execution_count": 68,
     "metadata": {},
     "output_type": "execute_result"
    }
   ],
   "source": [
    "question"
   ]
  },
  {
   "cell_type": "markdown",
   "id": "7ad25756",
   "metadata": {},
   "source": [
    "为语言模型定义系统和用户提示。此提示是使用从 Milvus 检索到的文档组装而成的。"
   ]
  },
  {
   "cell_type": "code",
   "execution_count": 69,
   "id": "b655f6f3",
   "metadata": {},
   "outputs": [],
   "source": [
    "SYSTEM_PROMPT = \"\"\"\n",
    "Human: 你是一个 AI 助手。你能够从提供的上下文段落片段中找到问题的答案。\n",
    "\"\"\"\n",
    "USER_PROMPT = f\"\"\"\n",
    "请使用以下用 <context> 标签括起来的信息片段来回答用 <question> 标签括起来的问题。最后追加原始回答的中文翻译，并用 <translated>和</translated> 标签标注。\n",
    "<context>\n",
    "{context}\n",
    "</context>\n",
    "<question>\n",
    "{question}\n",
    "</question>\n",
    "<translated>\n",
    "</translated>\n",
    "\"\"\""
   ]
  },
  {
   "cell_type": "code",
   "execution_count": 70,
   "id": "97089c31-f85c-47a9-8498-78520513bc67",
   "metadata": {},
   "outputs": [
    {
     "data": {
      "text/plain": [
       "'\\n请使用以下用 <context> 标签括起来的信息片段来回答用 <question> 标签括起来的问题。最后追加原始回答的中文翻译，并用 <translated>和</translated> 标签标注。\\n<context>\\nWhat is the maximum amount of data that can be added per insert operation?\\n\\nAn insert operation must not exceed 1,024 MB in size. This is a limit imposed by gRPC.\\n\\n###\\nWhat is the maximum dataset size Milvus can handle?\\n\\n  \\nTheoretically, the maximum dataset size Milvus can handle is determined by the hardware it is run on, specifically system memory and storage:\\n\\n- Milvus loads all specified collections and partitions into memory before running queries. Therefore, memory size determines the maximum amount of data Milvus can query.\\n- When new entities and and collection-related schema (currently only MinIO is supported for data persistence) are added to Milvus, system storage determines the maximum allowable size of inserted data.\\n\\n###\\nCan I create index for a segment before inserting data into it?\\n\\nYes, you can. But we recommend inserting data in batches, each of which should not exceed 256 MB, before indexing each segment.\\n\\n###\\n</context>\\n<question>\\nWhat is the maximum amount of data that can be added per insert operation\\n</question>\\n<translated>\\n</translated>\\n'"
      ]
     },
     "execution_count": 70,
     "metadata": {},
     "output_type": "execute_result"
    }
   ],
   "source": [
    "USER_PROMPT"
   ]
  },
  {
   "cell_type": "markdown",
   "id": "184b457f",
   "metadata": {},
   "source": [
    "使用 DeepSeek 提供的 `deepseek-chat` 模型根据提示生成响应。"
   ]
  },
  {
   "cell_type": "code",
   "execution_count": 71,
   "id": "638a7561",
   "metadata": {},
   "outputs": [
    {
     "name": "stdout",
     "output_type": "stream",
     "text": [
      "The maximum amount of data that can be added per insert operation is 1,024 MB, as imposed by gRPC.\n",
      "\n",
      "<translated>\n",
      "每次插入操作可以添加的最大数据量为 1,024 MB，这是由 gRPC 施加的限制。\n",
      "</translated>\n"
     ]
    }
   ],
   "source": [
    "response = deepseek_client.chat.completions.create(\n",
    "    model=\"deepseek-chat\",\n",
    "    messages=[\n",
    "        {\"role\": \"system\", \"content\": SYSTEM_PROMPT},\n",
    "        {\"role\": \"user\", \"content\": USER_PROMPT},\n",
    "    ],\n",
    ")\n",
    "print(response.choices[0].message.content)"
   ]
  },
  {
   "cell_type": "code",
   "execution_count": null,
   "id": "50ce3b55-7daa-4727-95bd-3b00f6aa2b03",
   "metadata": {},
   "outputs": [],
   "source": []
  },
  {
   "cell_type": "code",
   "execution_count": null,
   "id": "0afa526b-4b1a-4079-80c7-106aed1438f0",
   "metadata": {},
   "outputs": [],
   "source": []
  },
  {
   "cell_type": "code",
   "execution_count": null,
   "id": "07ef038c-102a-492b-b012-eed90b652597",
   "metadata": {},
   "outputs": [],
   "source": []
  },
  {
   "cell_type": "code",
   "execution_count": null,
   "id": "ec7d5f70-b0b9-48a5-bb10-1651df51a8f1",
   "metadata": {},
   "outputs": [],
   "source": []
  }
 ],
 "metadata": {
  "kernelspec": {
   "display_name": "Python 3 (ipykernel)",
   "language": "python",
   "name": "python3"
  },
  "language_info": {
   "codemirror_mode": {
    "name": "ipython",
    "version": 3
   },
   "file_extension": ".py",
   "mimetype": "text/x-python",
   "name": "python",
   "nbconvert_exporter": "python",
   "pygments_lexer": "ipython3",
   "version": "3.13.5"
  }
 },
 "nbformat": 4,
 "nbformat_minor": 5
}
